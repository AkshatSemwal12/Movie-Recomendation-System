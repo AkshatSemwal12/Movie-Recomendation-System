{
 "cells": [
  {
   "cell_type": "code",
   "execution_count": null,
   "metadata": {},
   "outputs": [],
   "source": [
    "import numpy as np\n",
    "import pandas as pd"
   ]
  },
  {
   "cell_type": "code",
   "execution_count": null,
   "metadata": {},
   "outputs": [],
   "source": [
    "movies=pd.read_csv('tmdb_5000_movies.csv')\n",
    "credits=pd.read_csv('tmdb_5000_credits.csv')"
   ]
  },
  {
   "cell_type": "code",
   "execution_count": null,
   "metadata": {},
   "outputs": [],
   "source": [
    "movies.head()"
   ]
  },
  {
   "cell_type": "code",
   "execution_count": null,
   "metadata": {},
   "outputs": [],
   "source": [
    "credits.head()"
   ]
  },
  {
   "cell_type": "markdown",
   "metadata": {},
   "source": [
    "# DATA PREPROCESSING\n",
    "# removing features that will be of no use in the model."
   ]
  },
  {
   "cell_type": "code",
   "execution_count": null,
   "metadata": {},
   "outputs": [],
   "source": [
    "movies=movies.merge(credits,on=\"title\")\n",
    "# merging both the dataframes\n",
    "movies.head(2)"
   ]
  },
  {
   "cell_type": "code",
   "execution_count": null,
   "metadata": {},
   "outputs": [],
   "source": [
    "#Removing the below features:-\n",
    " # budget\n",
    " # homepage\n",
    " # id\n",
    " # original_language\n",
    " # original_title\n",
    " # popularity\n",
    " # production_comapny\n",
    " # production_countries\n",
    " # release-date(not sure)"
   ]
  },
  {
   "cell_type": "code",
   "execution_count": null,
   "metadata": {},
   "outputs": [],
   "source": [
    "movies=movies[['movie_id','title','overview','genres','keywords','cast','crew']]\n",
    "movies.head(3)\n",
    "# removine the unnecessary features from the dataframe."
   ]
  },
  {
   "cell_type": "markdown",
   "metadata": {},
   "source": []
  },
  {
   "cell_type": "code",
   "execution_count": null,
   "metadata": {},
   "outputs": [],
   "source": [
    "movies.dtypes"
   ]
  },
  {
   "cell_type": "code",
   "execution_count": null,
   "metadata": {},
   "outputs": [],
   "source": [
    "import ast\n",
    "\n"
   ]
  },
  {
   "cell_type": "code",
   "execution_count": null,
   "metadata": {},
   "outputs": [],
   "source": [
    " def formatting(text):\n",
    "  l=[] # empty list\n",
    "  for i in ast.literal_eval(text):\n",
    "   l.append(i['name'])\n",
    "  return l\n",
    "#This function extracts the value associated with the key 'name' from each dictionary."
   ]
  },
  {
   "cell_type": "code",
   "execution_count": null,
   "metadata": {},
   "outputs": [],
   "source": [
    "movies.dropna(inplace=True)\n",
    "movies['genres']=movies['genres'].apply(formatting)\n",
    "movies.head(3)"
   ]
  },
  {
   "cell_type": "code",
   "execution_count": null,
   "metadata": {},
   "outputs": [],
   "source": [
    "movies['keywords']=movies['keywords'].apply(formatting)\n",
    "movies.head(1)"
   ]
  },
  {
   "cell_type": "code",
   "execution_count": null,
   "metadata": {},
   "outputs": [],
   "source": [
    "def formatting2(text):\n",
    "    l=[]\n",
    "    counter=1\n",
    "    for i in ast.literal_eval(text):\n",
    "        l.append(i['name'])\n",
    "        counter+=1\n",
    "        if counter==4:\n",
    "            break\n",
    "    return l\n",
    "# THIS EXTRACTS THE NAME OF FIRST 3 CASTS OF A MOVIE."
   ]
  },
  {
   "cell_type": "code",
   "execution_count": null,
   "metadata": {},
   "outputs": [],
   "source": [
    "movies['cast']=movies['cast'].apply(formatting2)\n",
    "movies.head(3)"
   ]
  },
  {
   "cell_type": "code",
   "execution_count": null,
   "metadata": {},
   "outputs": [],
   "source": [
    "def formatting3(text):\n",
    "  l=[] # empty list\n",
    "  for i in ast.literal_eval(text):\n",
    "   if(i['job']=='Director'):\n",
    "     l.append(i['name'])\n",
    "     break\n",
    "  return l"
   ]
  },
  {
   "cell_type": "code",
   "execution_count": null,
   "metadata": {},
   "outputs": [],
   "source": [
    "movies['crew']=movies['crew'].apply(formatting3)\n",
    "movies.head(3)"
   ]
  },
  {
   "cell_type": "code",
   "execution_count": null,
   "metadata": {},
   "outputs": [],
   "source": [
    "def collapse(text):\n",
    "    l=[]\n",
    "    for i in text:\n",
    "        l.append(i.replace(\" \",''))\n",
    "    return l\n",
    "#This function removes spaces in between of singular elements"
   ]
  },
  {
   "cell_type": "code",
   "execution_count": null,
   "metadata": {},
   "outputs": [],
   "source": [
    "movies['genres']=movies['genres'].apply(collapse)\n",
    "movies['crew']=movies['crew'].apply(collapse)\n",
    "movies['cast']=movies['cast'].apply(collapse)\n",
    "movies['keyboards']=movies['keywords'].apply(collapse)"
   ]
  },
  {
   "cell_type": "code",
   "execution_count": null,
   "metadata": {},
   "outputs": [],
   "source": [
    "movies.head()"
   ]
  },
  {
   "cell_type": "code",
   "execution_count": null,
   "metadata": {},
   "outputs": [],
   "source": [
    "# converting the overview column to a list as well\n",
    "movies['overview']=movies['overview'].apply(lambda x:x.split())\n",
    "movies.head(1)"
   ]
  },
  {
   "cell_type": "code",
   "execution_count": null,
   "metadata": {},
   "outputs": [],
   "source": [
    "# Now, we will combine the overview, cast, crew, keywords, genre columns to create a new 'tags' column.\n",
    "movies['tags']=movies['cast']+movies['crew']+movies['keywords']+movies['overview']+movies['genres']\n"
   ]
  },
  {
   "cell_type": "code",
   "execution_count": null,
   "metadata": {},
   "outputs": [],
   "source": [
    "new =movies.drop(columns=['overview','genres','keywords','cast','crew','keyboards'])\n",
    "new.head()"
   ]
  },
  {
   "cell_type": "code",
   "execution_count": null,
   "metadata": {},
   "outputs": [],
   "source": [
    "new['tags']=new['tags'].apply(lambda x:\" \".join(x))\n",
    "new.head()\n",
    "#Now the column tags will contain strings\n",
    "# will this data processing has been completed"
   ]
  },
  {
   "cell_type": "markdown",
   "metadata": {},
   "source": [
    "# APPLYING COSINE SIMILARITY"
   ]
  },
  {
   "cell_type": "code",
   "execution_count": null,
   "metadata": {},
   "outputs": [],
   "source": [
    "from sklearn.feature_extraction.text import CountVectorizer\n",
    "cv=CountVectorizer(max_features=5000,stop_words='english')\n",
    "\n",
    "#CountVectorizer converts a collection of tools into a matrix of token counts.\n",
    "# max_feature=5000 specifies the number of 5000 most frequent words will be considered\n",
    "# stop_words = This parameter allows you to specify a list of words to be ignored during tokenization."
   ]
  },
  {
   "cell_type": "code",
   "execution_count": null,
   "metadata": {},
   "outputs": [],
   "source": [
    "vector=cv.fit_transform(new['tags']).toarray()\n",
    "#the variable vector contains a NumPy array representing the document-term matrix obtained from the text data in the 'tags' column of the DataFrame new. \n",
    "#Each row of the array corresponds to a document (or entry in the 'tags' column), and each column corresponds to a unique token (or word) in the vocabulary. The values in the array represent the counts of each token in each document.\n",
    "# we use the toarray() to convert the sparse matrix to numpy array as sparse matrix only stores non-zero elements"
   ]
  },
  {
   "cell_type": "code",
   "execution_count": null,
   "metadata": {},
   "outputs": [],
   "source": [
    "\n",
    "vector.shape\n",
    "#The shape is (4806,5000).Here 4806 is the number of movies and 5000 is the most common words in tags column."
   ]
  },
  {
   "cell_type": "code",
   "execution_count": null,
   "metadata": {},
   "outputs": [],
   "source": [
    "from sklearn.metrics.pairwise import cosine_similarity\n",
    "similarity=cosine_similarity(vector)\n",
    "#cosine_similarity returns a NumPy array representing the pairwise cosine similarity between vectors."
   ]
  },
  {
   "cell_type": "code",
   "execution_count": null,
   "metadata": {},
   "outputs": [],
   "source": [
    "similarity"
   ]
  },
  {
   "cell_type": "code",
   "execution_count": null,
   "metadata": {},
   "outputs": [],
   "source": [
    "def recommend_movies(movie):\n",
    "  movie_index=new[new['title']==movie].index[0]\n",
    "  distance= similarity[movie_index]\n",
    "  movies_list=sorted(list(enumerate(distance)), reverse=True,key=lambda x:x[1])[1:6]\n",
    "  for i in movies_list:\n",
    "    print(new.iloc[i[0]].title)\n"
   ]
  },
  {
   "cell_type": "code",
   "execution_count": null,
   "metadata": {},
   "outputs": [],
   "source": [
    "recommend_movies('Avatar')"
   ]
  },
  {
   "cell_type": "code",
   "execution_count": null,
   "metadata": {},
   "outputs": [],
   "source": [
    "import pickle"
   ]
  },
  {
   "cell_type": "code",
   "execution_count": null,
   "metadata": {},
   "outputs": [],
   "source": [
    "pickle.dump(new,open('movies.pkl','wb'))\n",
    "#This function from pickle module is used to serialize python objects and save them to a file.\n",
    "# open('movies.pkl', 'wb') , this part of the code opens a file named 'movies.pkl' in binary write mode\n",
    "# After executing this code, a file named 'movies.pkl' will be created in the current directorym. \n",
    "# This file will contain the serialzed representation of the new dataframe.\n",
    "# we can later load this file using 'pickle.load()' to work with the data in python.\n"
   ]
  },
  {
   "cell_type": "code",
   "execution_count": null,
   "metadata": {},
   "outputs": [],
   "source": [
    "pickle.dump(similarity,open('similarity.pkl','wb'))"
   ]
  },
  {
   "cell_type": "code",
   "execution_count": null,
   "metadata": {},
   "outputs": [],
   "source": [
    "new"
   ]
  },
  {
   "cell_type": "code",
   "execution_count": null,
   "metadata": {},
   "outputs": [],
   "source": []
  }
 ],
 "metadata": {
  "kernelspec": {
   "display_name": "base",
   "language": "python",
   "name": "python3"
  },
  "language_info": {
   "codemirror_mode": {
    "name": "ipython",
    "version": 3
   },
   "file_extension": ".py",
   "mimetype": "text/x-python",
   "name": "python",
   "nbconvert_exporter": "python",
   "pygments_lexer": "ipython3",
   "version": "3.11.5"
  }
 },
 "nbformat": 4,
 "nbformat_minor": 2
}
